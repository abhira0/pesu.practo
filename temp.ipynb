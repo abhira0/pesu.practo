{
 "cells": [
  {
   "cell_type": "code",
   "execution_count": 1,
   "id": "human-version",
   "metadata": {},
   "outputs": [],
   "source": [
    "import pandas as pd\n",
    "import os\n",
    "from termcolor import cprint\n",
    "import re, datetime\n"
   ]
  },
  {
   "cell_type": "code",
   "execution_count": 2,
   "metadata": {},
   "outputs": [],
   "source": [
    "\n",
    "class utils:\n",
    "    @staticmethod\n",
    "    def checkIf(arr: list, text: str):\n",
    "        for pattern in arr:\n",
    "            if pattern.to_lower() == text.strip().to_lower():\n",
    "                return True\n",
    "        return False\n",
    "\n",
    "    @staticmethod\n",
    "    def isValidDate(date: str):\n",
    "        d, m, y = map(int, date)\n",
    "        try:\n",
    "            datetime.datetime(d, m, y)\n",
    "        except:\n",
    "            return False\n",
    "        return True\n",
    "\n"
   ]
  },
  {
   "cell_type": "code",
   "execution_count": 5,
   "metadata": {},
   "outputs": [
    {
     "output_type": "error",
     "ename": "SyntaxError",
     "evalue": "'return' outside function (<ipython-input-5-7f5e778d7573>, line 20)",
     "traceback": [
      "\u001b[1;36m  File \u001b[1;32m\"<ipython-input-5-7f5e778d7573>\"\u001b[1;36m, line \u001b[1;32m20\u001b[0m\n\u001b[1;33m    return \"Redirected to Login Page\"\u001b[0m\n\u001b[1;37m    ^\u001b[0m\n\u001b[1;31mSyntaxError\u001b[0m\u001b[1;31m:\u001b[0m 'return' outside function\n"
     ]
    }
   ],
   "source": [
    "def get_ENTRY_EMAIL_ID():\n",
    "    tmp_inp = input(\"Enter Your Email ID: \")\n",
    "    while True:\n",
    "        if tmp_inp == \"\":  # id must not be empty\n",
    "            cprint(\"[!] Email ID cannot be empty\", \"red\")\n",
    "        # id must be valid\n",
    "        elif not re.match(r\"[\\w\\d]+@[\\d\\w]+\\.[\\w]\", tmp_inp):\n",
    "            cprint(\"[!] Email ID should be valid\", \"red\")\n",
    "        else:\n",
    "            break\n",
    "        tmp_inp = input(\"Enter Your Email ID: \")\n",
    "    return tmp_inp\n",
    "\n",
    "ENTRY_EMAIL_ID = get_ENTRY_EMAIL_ID()\n",
    "# check if the patient had already registered\n",
    "if ENTRY_EMAIL_ID in db.database[\"PATIENT\"][\"EMAIL_ID\"]:\n",
    "    cprint(\"[i] You already have an account. \", \"cyan\")\n",
    "    if utils.checkIn([\"yes\", \"y\", \"1\"], input(\"Do you want to login? \")):\n",
    "        self.login()\n",
    "        print(\"Redirected to Login Page\")\n",
    "    print(\"Bye\")\n",
    "    print(\"No Registration nor Login\")\n",
    "# ----------------------------------------\n",
    "def get_ENTRY_PASSWORD():\n",
    "    while True:\n",
    "        tmp_inp = input(\"Enter the password: \")\n",
    "        if len(tmp_inp) > 6:\n",
    "            return tmp_inp\n",
    "        cprint(\"Length of the password must be greater than 6\", \"red\")\n",
    "\n",
    "ENTRY_PASSWORD = get_ENTRY_PASSWORD()\n",
    "\n",
    "# ----------------------------------------\n",
    "def get_ENTRY_GENDER():\n",
    "    while True:\n",
    "        tmp_inp = input(\"Enter the gender (m/f): \")\n",
    "        if tmp_inp.lower() in [\"m\", \"f\", \"male\", \"female\"]:\n",
    "            return tmp_inp\n",
    "        cprint(\n",
    "            \"[!] Please enter in proper format ['m','f','male','female']\", \"red\"\n",
    "        )\n",
    "\n",
    "ENTRY_GENDER = get_ENTRY_GENDER()\n",
    "\n",
    "# ----------------------------------------\n",
    "def get_ENTRY_AGE():\n",
    "    while True:\n",
    "        tmp_inp = input(\"Enter the age: \")\n",
    "        try:\n",
    "            tmp_inp = int(tmp_inp)\n",
    "            return tmp_inp\n",
    "        except:\n",
    "            ...\n",
    "        cprint(\"[!] Please enter an integer\", \"red\")\n",
    "\n",
    "ENTRY_AGE = get_ENTRY_AGE()\n",
    "\n",
    "# ----------------------------------------\n"
   ]
  },
  {
   "cell_type": "code",
   "execution_count": null,
   "metadata": {},
   "outputs": [],
   "source": []
  }
 ],
 "metadata": {
  "kernelspec": {
   "name": "python392jvsc74a57bd0ac59ebe37160ed0dfa835113d9b8498d9f09ceb179beaac4002f036b9467c963",
   "display_name": "Python 3.9.2 64-bit"
  },
  "language_info": {
   "codemirror_mode": {
    "name": "ipython",
    "version": 3
   },
   "file_extension": ".py",
   "mimetype": "text/x-python",
   "name": "python",
   "nbconvert_exporter": "python",
   "pygments_lexer": "ipython3",
   "version": "3.9.2"
  }
 },
 "nbformat": 4,
 "nbformat_minor": 5
}