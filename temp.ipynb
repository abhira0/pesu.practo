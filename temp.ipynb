{
 "cells": [
  {
   "cell_type": "code",
   "execution_count": 19,
   "id": "human-version",
   "metadata": {},
   "outputs": [],
   "source": [
    "import pandas as pd\n",
    "import os"
   ]
  },
  {
   "cell_type": "code",
   "execution_count": 37,
   "metadata": {},
   "outputs": [],
   "source": [
    "def create_table():\n",
    "    DBT_USER = pd.DataFrame(columns=['USER_ID','FIRST_NAME','LAST_NAME','DOB','ADDRESS','EMAIL_ID','PASSWORD','GENDER', 'AGE','PHONE_NUMBER'])\n",
    "    DBT_DOCTOR = pd.DataFrame(columns=['DOCTOR_ID','FIRST_NAME', 'LAST_NAME', 'ADDRESS','SPECIALITY','YOE','WORKPLACE','RATING','EMAIL_ID','PHONE_NUMBER','AVAILABILITY'])\n",
    "    DBT_ADMIN = pd.DataFrame(columns=['ADMIN_NAME', 'USER_ID','DOCTOR_ID','PASSWORD','BOOKING_TIME','TIMESTAMP','HOSPITAL_NAME'])\n",
    "    DBT_HOSPITAL = pd.DataFrame(columns=['HOSPITAL_ID','NAME', 'ADDRESS','EMAIL','PHONE_NUMBER','ZIP_CODE','RATING'])\n",
    "\n",
    "    db_tables = [i for i in locals() if i.startswith(\"DBT_\")]\n",
    "    for table_name in db_tables:\n",
    "        if not os.path.exists(f'./db/{table_name}.xlsx'):\n",
    "            temp_name = table_name.split(\"_\")[1]\n",
    "            print(f\"CREATE TABLE {temp_name}\")\n",
    "            locals()[table_name].to_excel(f'./db/{table_name}.xlsx')"
   ]
  },
  {
   "cell_type": "code",
   "execution_count": 41,
   "metadata": {},
   "outputs": [
    {
     "output_type": "error",
     "ename": "IndentationError",
     "evalue": "unexpected indent (<ipython-input-41-6f976563e99a>, line 5)",
     "traceback": [
      "\u001b[1;36m  File \u001b[1;32m\"<ipython-input-41-6f976563e99a>\"\u001b[1;36m, line \u001b[1;32m5\u001b[0m\n\u001b[1;33m    self.database[table_name]=pd.read_excel(f\"./db/{table_xlsx}\")\u001b[0m\n\u001b[1;37m    ^\u001b[0m\n\u001b[1;31mIndentationError\u001b[0m\u001b[1;31m:\u001b[0m unexpected indent\n"
     ]
    }
   ],
   "source": [
    "tables_xlsx = os.listdir('./db')\n",
    "for table_xlsx in tables_xlsx:\n",
    "    table_name = table_xlsx.split(\".\")[0]\n",
    "    print(table_xlsx)\n",
    "    self.database[table_name]=pd.read_excel(f\"./db/{table_xlsx}\")"
   ]
  },
  {
   "cell_type": "code",
   "execution_count": null,
   "metadata": {},
   "outputs": [],
   "source": []
  }
 ],
 "metadata": {
  "kernelspec": {
   "name": "python392jvsc74a57bd0ac59ebe37160ed0dfa835113d9b8498d9f09ceb179beaac4002f036b9467c963",
   "display_name": "Python 3.9.2 64-bit"
  },
  "language_info": {
   "codemirror_mode": {
    "name": "ipython",
    "version": 3
   },
   "file_extension": ".py",
   "mimetype": "text/x-python",
   "name": "python",
   "nbconvert_exporter": "python",
   "pygments_lexer": "ipython3",
   "version": "3.9.2"
  }
 },
 "nbformat": 4,
 "nbformat_minor": 5
}