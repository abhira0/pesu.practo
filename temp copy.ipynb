{
 "cells": [
  {
   "cell_type": "code",
   "execution_count": 1,
   "id": "human-version",
   "metadata": {},
   "outputs": [],
   "source": [
    "import pandas as pd\n",
    "import os\n",
    "from termcolor import cprint\n",
    "import re, datetime\n"
   ]
  },
  {
   "cell_type": "code",
   "execution_count": 2,
   "metadata": {},
   "outputs": [],
   "source": [
    "\n",
    "class utils:\n",
    "    @staticmethod\n",
    "    def checkIf(arr: list, text: str):\n",
    "        for pattern in arr:\n",
    "            if pattern.lower() == text.strip().lower():\n",
    "                return True\n",
    "        return False\n",
    "\n",
    "    @staticmethod\n",
    "    def isValidDate(date: str):\n",
    "        d, m, y = map(int, date)\n",
    "        try:\n",
    "            datetime.datetime(d, m, y)\n",
    "        except:\n",
    "            return False\n",
    "        return True\n",
    "\n",
    "\n",
    "class Database:\n",
    "    database = {}\n",
    "\n",
    "    def __init__(self):\n",
    "        self.create_table()\n",
    "        self.get_db()\n",
    "\n",
    "    def get_db(self):\n",
    "        tables_xlsx = os.listdir(\"./db\")\n",
    "        for table_xlsx in tables_xlsx:\n",
    "            table_name = table_xlsx.split(\".\")[0]\n",
    "            self.database[table_name] = pd.read_excel(f\"./db/{table_xlsx}\")\n",
    "\n",
    "    def create_table(self):\n",
    "        DBT_PATIENT = pd.DataFrame(\n",
    "            columns=[\"EMAIL_ID\", \"PASSWORD\", \"GENDER\", \"AGE\", \"PHONE_NUMBER\"]\n",
    "        )\n",
    "        DBT_DOCTOR = pd.DataFrame(\n",
    "            columns=[\n",
    "                \"EMAIL_ID\",\n",
    "                \"SPECIALITY\",\n",
    "                \"YOE\",\n",
    "                \"RATING\",\n",
    "                \"PHONE_NUMBER\",\n",
    "                \"AVAILABILITY\",\n",
    "            ]\n",
    "        )\n",
    "        DBT_ADMIN = pd.DataFrame(\n",
    "            columns=[\n",
    "                \"ADMIN_NAME\",\n",
    "                \"PID\",\n",
    "                \"DID\",\n",
    "                \"PASSWORD\",\n",
    "                \"BOOKING_TIME\",\n",
    "                \"TIMESTAMP\",\n",
    "                \"HOSPITAL_NAME\",\n",
    "            ]\n",
    "        )\n",
    "        DBT_HOSPITAL = pd.DataFrame(columns=[\"EMAIL\", \"PHONE_NUMBER\", \"LOCATION\"])\n",
    "\n",
    "        db_tables = [i for i in locals() if i.startswith(\"DBT_\")]\n",
    "        for table_name in db_tables:\n",
    "            temp_name = table_name.split(\"_\")[1]\n",
    "            if not os.path.exists(f\"./db/{temp_name}.xlsx\"):\n",
    "                print(f\"CREATE TABLE {temp_name}\")\n",
    "                locals()[table_name].to_excel(f\"./db/{temp_name}.xlsx\", index=False)\n",
    "\n"
   ]
  },
  {
   "cell_type": "code",
   "execution_count": 3,
   "metadata": {},
   "outputs": [
    {
     "output_type": "execute_result",
     "data": {
      "text/plain": [
       "           DOCTOR            PATIENT        DATE  SLOT\n",
       "0  sheela@prac.to  kushal@practo.com  20/04/2021     3"
      ],
      "text/html": "<div>\n<style scoped>\n    .dataframe tbody tr th:only-of-type {\n        vertical-align: middle;\n    }\n\n    .dataframe tbody tr th {\n        vertical-align: top;\n    }\n\n    .dataframe thead th {\n        text-align: right;\n    }\n</style>\n<table border=\"1\" class=\"dataframe\">\n  <thead>\n    <tr style=\"text-align: right;\">\n      <th></th>\n      <th>DOCTOR</th>\n      <th>PATIENT</th>\n      <th>DATE</th>\n      <th>SLOT</th>\n    </tr>\n  </thead>\n  <tbody>\n    <tr>\n      <th>0</th>\n      <td>sheela@prac.to</td>\n      <td>kushal@practo.com</td>\n      <td>20/04/2021</td>\n      <td>3</td>\n    </tr>\n  </tbody>\n</table>\n</div>"
     },
     "metadata": {},
     "execution_count": 3
    }
   ],
   "source": [
    "db = Database()\n",
    "df = db.database['APPOINTMENT']\n",
    "df"
   ]
  },
  {
   "cell_type": "code",
   "execution_count": null,
   "metadata": {},
   "outputs": [],
   "source": []
  }
 ],
 "metadata": {
  "kernelspec": {
   "name": "python394jvsc74a57bd0247ab06e135bb35fa78c5eff31b2a9a0050dcb5fb773c2631d2a29ac689eeccb",
   "display_name": "Python 3.9.4 64-bit"
  },
  "language_info": {
   "codemirror_mode": {
    "name": "ipython",
    "version": 3
   },
   "file_extension": ".py",
   "mimetype": "text/x-python",
   "name": "python",
   "nbconvert_exporter": "python",
   "pygments_lexer": "ipython3",
   "version": "3.9.4-final"
  }
 },
 "nbformat": 4,
 "nbformat_minor": 5
}